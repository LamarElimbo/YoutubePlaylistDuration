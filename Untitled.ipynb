{
 "cells": [
  {
   "cell_type": "markdown",
   "metadata": {},
   "source": [
    "# Youtube Playlist Duration Calculator\n",
    "\n",
    "## The goal of this program is to add up the times of all of the videos in a Youtube playlist\n",
    "\n",
    "## Program Rundown\n",
    "- allow user to enter the url to a Youtube playlist\n",
    "- web scraper will collect the timestamps assigned to all of the videos in the playlist\n",
    "- program will add together all of the time stamps and convert the result into a user friendly time"
   ]
  },
  {
   "cell_type": "code",
   "execution_count": 1,
   "metadata": {
    "collapsed": false
   },
   "outputs": [
    {
     "name": "stdout",
     "output_type": "stream",
     "text": [
      "Total number of videos =  99\n"
     ]
    }
   ],
   "source": [
    "# web scraper\n",
    "\n",
    "from bs4 import BeautifulSoup as bs\n",
    "import re\n",
    "from urllib import request\n",
    "\n",
    "# enter playlist url\n",
    "url = 'https://www.youtube.com/playlist?list=PLFD0EB975BA0CC1E0'\n",
    "html = request.urlopen(url).read().decode('utf8')\n",
    "htmlSoup = bs(html, 'lxml')\n",
    "\n",
    "videoLengths = []\n",
    "\n",
    "for video in htmlSoup.find_all('tr'):\n",
    "    for length in video.find_all(class_='timestamp'):\n",
    "        videoLengths.append(length.string)\n",
    "print(\"Total number of videos = \", len(videoLengths))"
   ]
  },
  {
   "cell_type": "code",
   "execution_count": 71,
   "metadata": {
    "collapsed": false
   },
   "outputs": [
    {
     "name": "stdout",
     "output_type": "stream",
     "text": [
      "24 hours : 35 minutes : 13 seconds\n"
     ]
    }
   ],
   "source": [
    "# length of playlist calculator\n",
    "\n",
    "totalLengthInSecs = 0\n",
    "\n",
    "for timestamp in videoLengths:\n",
    "    timeConverted = re.findall('\\d+', timestamp)\n",
    "\n",
    "    if len(timeConverted) == 3:\n",
    "        hoursToSeconds = int(timeConverted[0]) * 3600\n",
    "        minutesToSeconds = int(timeConverted[1]) * 60\n",
    "        seconds = int(timeConverted[1])\n",
    "        totalLengthInSecs += hoursToSeconds + minutesToSeconds + seconds\n",
    "    elif len(timeConverted) == 2:\n",
    "        minutesToSeconds = int(timeConverted[0]) * 60\n",
    "        seconds = int(timeConverted[1])\n",
    "        totalLengthInSecs += minutesToSeconds + seconds\n",
    "    else:\n",
    "        totalLengthInSecs += seconds\n",
    "        \n",
    "parseSeconds = totalLengthInSecs/60\n",
    "totalTimeInString = str(round(parseSeconds, 2))\n",
    "totalTime = re.sub('\\.', ':', totalTimeInString)\n",
    "\n",
    "seconds = totalLengthInSecs % 60\n",
    "if totalLengthInSecs > 3600:\n",
    "    hours = int(totalLengthInSecs / 3600)\n",
    "    minutes = int(totalLengthInSecs / 60) % 60\n",
    "elif totalLengthInSecs > 60:\n",
    "    minutes = int(totalLengthInSecs / 60)\n",
    "print(hours,\"hours :\",minutes,\"minutes :\",seconds, \"seconds\")"
   ]
  }
 ],
 "metadata": {
  "kernelspec": {
   "display_name": "Python 3",
   "language": "python",
   "name": "python3"
  },
  "language_info": {
   "codemirror_mode": {
    "name": "ipython",
    "version": 3
   },
   "file_extension": ".py",
   "mimetype": "text/x-python",
   "name": "python",
   "nbconvert_exporter": "python",
   "pygments_lexer": "ipython3",
   "version": "3.5.1"
  }
 },
 "nbformat": 4,
 "nbformat_minor": 0
}
