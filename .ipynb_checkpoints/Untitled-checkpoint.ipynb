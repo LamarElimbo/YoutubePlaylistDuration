{
 "cells": [
  {
   "cell_type": "markdown",
   "metadata": {},
   "source": [
    "# Youtube Playlist Duration Calculator\n",
    "\n",
    "## The goal of this program is to add up the times of all of the videos in a Youtube playlist\n",
    "\n",
    "## Program Rundown\n",
    "- allow user to enter the url to a Youtube playlist\n",
    "- web scraper will collect the timestamps assigned to all of the videos in the playlist\n",
    "- program will add together all of the time stamps and convert the result into a user friendly time"
   ]
  },
  {
   "cell_type": "code",
   "execution_count": null,
   "metadata": {
    "collapsed": true
   },
   "outputs": [],
   "source": [
    "# web scraper\n",
    "\n",
    "from bs4 import BeautifulSoup as bs\n",
    "import re\n",
    "from urllib import request\n",
    "\n",
    "url = 'https://www.youtube.com/playlist?list=PLFD0EB975BA0CC1E0'\n",
    "html = request.urlopen(url).read().decode('utf8')\n",
    "htmlSoup = bs(html, 'lxml')\n",
    "\n",
    "videoLengths = []\n",
    "\n",
    "for video in htmlSoup.find_all('tr'):\n",
    "    for length in video.find_all(class_='timestamp'):\n",
    "        videoLengths.append(length.string)\n",
    "print(\"Total number of videos = \", len(videoLengths))"
   ]
  }
 ],
 "metadata": {
  "kernelspec": {
   "display_name": "Python 3",
   "language": "python",
   "name": "python3"
  },
  "language_info": {
   "codemirror_mode": {
    "name": "ipython",
    "version": 3
   },
   "file_extension": ".py",
   "mimetype": "text/x-python",
   "name": "python",
   "nbconvert_exporter": "python",
   "pygments_lexer": "ipython3",
   "version": "3.5.1"
  }
 },
 "nbformat": 4,
 "nbformat_minor": 0
}
